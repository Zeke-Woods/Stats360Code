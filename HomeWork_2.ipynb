{
  "nbformat": 4,
  "nbformat_minor": 0,
  "metadata": {
    "colab": {
      "name": "HomeWork_2.ipynb",
      "provenance": [],
      "collapsed_sections": [],
      "authorship_tag": "ABX9TyPE8vJ0snjJB2vjoFPulqcL",
      "include_colab_link": true
    },
    "kernelspec": {
      "name": "ir",
      "display_name": "R"
    },
    "language_info": {
      "name": "R"
    }
  },
  "cells": [
    {
      "cell_type": "markdown",
      "metadata": {
        "id": "view-in-github",
        "colab_type": "text"
      },
      "source": [
        "<a href=\"https://colab.research.google.com/github/Zeke-Woods/Stats360Code/blob/main/HomeWork_2.ipynb\" target=\"_parent\"><img src=\"https://colab.research.google.com/assets/colab-badge.svg\" alt=\"Open In Colab\"/></a>"
      ]
    },
    {
      "cell_type": "code",
      "metadata": {
        "id": "ZjzsM72c85jC",
        "colab": {
          "base_uri": "https://localhost:8080/"
        },
        "outputId": "732dcd0e-d471-43ff-aa6a-8a281728ae79"
      },
      "source": [
        "library(tidyverse)"
      ],
      "execution_count": null,
      "outputs": [
        {
          "output_type": "stream",
          "name": "stderr",
          "text": [
            "Warning message in system(\"timedatectl\", intern = TRUE):\n",
            "“running command 'timedatectl' had status 1”\n",
            "── \u001b[1mAttaching packages\u001b[22m ─────────────────────────────────────── tidyverse 1.3.1 ──\n",
            "\n",
            "\u001b[32m✔\u001b[39m \u001b[34mggplot2\u001b[39m 3.3.5     \u001b[32m✔\u001b[39m \u001b[34mpurrr  \u001b[39m 0.3.4\n",
            "\u001b[32m✔\u001b[39m \u001b[34mtibble \u001b[39m 3.1.4     \u001b[32m✔\u001b[39m \u001b[34mdplyr  \u001b[39m 1.0.7\n",
            "\u001b[32m✔\u001b[39m \u001b[34mtidyr  \u001b[39m 1.1.3     \u001b[32m✔\u001b[39m \u001b[34mstringr\u001b[39m 1.4.0\n",
            "\u001b[32m✔\u001b[39m \u001b[34mreadr  \u001b[39m 2.0.1     \u001b[32m✔\u001b[39m \u001b[34mforcats\u001b[39m 0.5.1\n",
            "\n",
            "── \u001b[1mConflicts\u001b[22m ────────────────────────────────────────── tidyverse_conflicts() ──\n",
            "\u001b[31m✖\u001b[39m \u001b[34mdplyr\u001b[39m::\u001b[32mfilter()\u001b[39m masks \u001b[34mstats\u001b[39m::filter()\n",
            "\u001b[31m✖\u001b[39m \u001b[34mdplyr\u001b[39m::\u001b[32mlag()\u001b[39m    masks \u001b[34mstats\u001b[39m::lag()\n",
            "\n"
          ]
        }
      ]
    },
    {
      "cell_type": "code",
      "metadata": {
        "colab": {
          "base_uri": "https://localhost:8080/",
          "height": 35
        },
        "id": "bdv1NJDu9puf",
        "outputId": "ea127197-1b23-47e8-cbb4-f3c01022c45e"
      },
      "source": [
        "Haystacks <- read.csv(\"Haystacks.csv\") \n",
        "ls(Haystacks)\n",
        "#head (Haystacks)"
      ],
      "execution_count": null,
      "outputs": [
        {
          "output_type": "display_data",
          "data": {
            "text/plain": [
              "[1] \"Circumference..ft.\" \"Over..ft.\"          \"RowID\"             \n",
              "[4] \"Volume\"            "
            ],
            "text/latex": "\\begin{enumerate*}\n\\item 'Circumference..ft.'\n\\item 'Over..ft.'\n\\item 'RowID'\n\\item 'Volume'\n\\end{enumerate*}\n",
            "text/markdown": "1. 'Circumference..ft.'\n2. 'Over..ft.'\n3. 'RowID'\n4. 'Volume'\n\n\n",
            "text/html": [
              "<style>\n",
              ".list-inline {list-style: none; margin:0; padding: 0}\n",
              ".list-inline>li {display: inline-block}\n",
              ".list-inline>li:not(:last-child)::after {content: \"\\00b7\"; padding: 0 .5ex}\n",
              "</style>\n",
              "<ol class=list-inline><li>'Circumference..ft.'</li><li>'Over..ft.'</li><li>'RowID'</li><li>'Volume'</li></ol>\n"
            ]
          },
          "metadata": {}
        }
      ]
    },
    {
      "cell_type": "code",
      "metadata": {
        "colab": {
          "base_uri": "https://localhost:8080/",
          "height": 129
        },
        "id": "o2OiXnyV92b7",
        "outputId": "069a7b2b-ae7c-4fbc-fd95-85b145b2a431"
      },
      "source": [
        "(Haystacks %>%\n",
        "  summarise( Mean = mean(Volume),\n",
        "             sd = sd(Volume),\n",
        "             var = var(Volume),\n",
        "             resSq = var*119\n",
        "  )\n",
        ")"
      ],
      "execution_count": null,
      "outputs": [
        {
          "output_type": "display_data",
          "data": {
            "text/plain": [
              "  Mean     sd      var      resSq   \n",
              "1 3017.789 914.698 836672.5 99564027"
            ],
            "text/latex": "A data.frame: 1 × 4\n\\begin{tabular}{llll}\n Mean & sd & var & resSq\\\\\n <dbl> & <dbl> & <dbl> & <dbl>\\\\\n\\hline\n\t 3017.789 & 914.698 & 836672.5 & 99564027\\\\\n\\end{tabular}\n",
            "text/markdown": "\nA data.frame: 1 × 4\n\n| Mean &lt;dbl&gt; | sd &lt;dbl&gt; | var &lt;dbl&gt; | resSq &lt;dbl&gt; |\n|---|---|---|---|\n| 3017.789 | 914.698 | 836672.5 | 99564027 |\n\n",
            "text/html": [
              "<table class=\"dataframe\">\n",
              "<caption>A data.frame: 1 × 4</caption>\n",
              "<thead>\n",
              "\t<tr><th scope=col>Mean</th><th scope=col>sd</th><th scope=col>var</th><th scope=col>resSq</th></tr>\n",
              "\t<tr><th scope=col>&lt;dbl&gt;</th><th scope=col>&lt;dbl&gt;</th><th scope=col>&lt;dbl&gt;</th><th scope=col>&lt;dbl&gt;</th></tr>\n",
              "</thead>\n",
              "<tbody>\n",
              "\t<tr><td>3017.789</td><td>914.698</td><td>836672.5</td><td>99564027</td></tr>\n",
              "</tbody>\n",
              "</table>\n"
            ]
          },
          "metadata": {}
        }
      ]
    },
    {
      "cell_type": "code",
      "metadata": {
        "colab": {
          "base_uri": "https://localhost:8080/",
          "height": 286
        },
        "id": "-hhMuACEF9PL",
        "outputId": "bc787325-72fb-43b9-ddff-8ff730c90a41"
      },
      "source": [
        "Haystacks_with_Residuals <- (Haystacks\n",
        "                    %>% mutate(VolumeCircumference = Circumference..ft.^3/(12*pi^2))\n",
        "                    %>% mutate(Residual = Volume - VolumeCircumference)\n",
        "                    %>% mutate(ResidualSquared = Residual^2)\n",
        "                )\n",
        "\n",
        "head(Haystacks_with_Residuals)\n",
        "\n"
      ],
      "execution_count": null,
      "outputs": [
        {
          "output_type": "display_data",
          "data": {
            "text/plain": [
              "  RowID Volume Circumference..ft. Over..ft. VolumeCircumference Residual  \n",
              "1 1     2853   69.0               37.0      2773.743              79.25661\n",
              "2 2     2702   65.0               36.5      2318.778             383.22250\n",
              "3 3     3099   73.0               38.5      3284.639            -185.63857\n",
              "4 4     1306   62.5               26.5      2061.385            -755.38476\n",
              "5 5     2294   70.0               35.0      2896.097            -602.09717\n",
              "6 6     2725   68.0               36.5      2654.885              70.11480\n",
              "  ResidualSquared\n",
              "1   6281.610     \n",
              "2 146859.481     \n",
              "3  34461.680     \n",
              "4 570606.133     \n",
              "5 362520.997     \n",
              "6   4916.085     "
            ],
            "text/latex": "A data.frame: 6 × 7\n\\begin{tabular}{r|lllllll}\n  & RowID & Volume & Circumference..ft. & Over..ft. & VolumeCircumference & Residual & ResidualSquared\\\\\n  & <int> & <dbl> & <dbl> & <dbl> & <dbl> & <dbl> & <dbl>\\\\\n\\hline\n\t1 & 1 & 2853 & 69.0 & 37.0 & 2773.743 &   79.25661 &   6281.610\\\\\n\t2 & 2 & 2702 & 65.0 & 36.5 & 2318.778 &  383.22250 & 146859.481\\\\\n\t3 & 3 & 3099 & 73.0 & 38.5 & 3284.639 & -185.63857 &  34461.680\\\\\n\t4 & 4 & 1306 & 62.5 & 26.5 & 2061.385 & -755.38476 & 570606.133\\\\\n\t5 & 5 & 2294 & 70.0 & 35.0 & 2896.097 & -602.09717 & 362520.997\\\\\n\t6 & 6 & 2725 & 68.0 & 36.5 & 2654.885 &   70.11480 &   4916.085\\\\\n\\end{tabular}\n",
            "text/markdown": "\nA data.frame: 6 × 7\n\n| <!--/--> | RowID &lt;int&gt; | Volume &lt;dbl&gt; | Circumference..ft. &lt;dbl&gt; | Over..ft. &lt;dbl&gt; | VolumeCircumference &lt;dbl&gt; | Residual &lt;dbl&gt; | ResidualSquared &lt;dbl&gt; |\n|---|---|---|---|---|---|---|---|\n| 1 | 1 | 2853 | 69.0 | 37.0 | 2773.743 |   79.25661 |   6281.610 |\n| 2 | 2 | 2702 | 65.0 | 36.5 | 2318.778 |  383.22250 | 146859.481 |\n| 3 | 3 | 3099 | 73.0 | 38.5 | 3284.639 | -185.63857 |  34461.680 |\n| 4 | 4 | 1306 | 62.5 | 26.5 | 2061.385 | -755.38476 | 570606.133 |\n| 5 | 5 | 2294 | 70.0 | 35.0 | 2896.097 | -602.09717 | 362520.997 |\n| 6 | 6 | 2725 | 68.0 | 36.5 | 2654.885 |   70.11480 |   4916.085 |\n\n",
            "text/html": [
              "<table class=\"dataframe\">\n",
              "<caption>A data.frame: 6 × 7</caption>\n",
              "<thead>\n",
              "\t<tr><th></th><th scope=col>RowID</th><th scope=col>Volume</th><th scope=col>Circumference..ft.</th><th scope=col>Over..ft.</th><th scope=col>VolumeCircumference</th><th scope=col>Residual</th><th scope=col>ResidualSquared</th></tr>\n",
              "\t<tr><th></th><th scope=col>&lt;int&gt;</th><th scope=col>&lt;dbl&gt;</th><th scope=col>&lt;dbl&gt;</th><th scope=col>&lt;dbl&gt;</th><th scope=col>&lt;dbl&gt;</th><th scope=col>&lt;dbl&gt;</th><th scope=col>&lt;dbl&gt;</th></tr>\n",
              "</thead>\n",
              "<tbody>\n",
              "\t<tr><th scope=row>1</th><td>1</td><td>2853</td><td>69.0</td><td>37.0</td><td>2773.743</td><td>  79.25661</td><td>  6281.610</td></tr>\n",
              "\t<tr><th scope=row>2</th><td>2</td><td>2702</td><td>65.0</td><td>36.5</td><td>2318.778</td><td> 383.22250</td><td>146859.481</td></tr>\n",
              "\t<tr><th scope=row>3</th><td>3</td><td>3099</td><td>73.0</td><td>38.5</td><td>3284.639</td><td>-185.63857</td><td> 34461.680</td></tr>\n",
              "\t<tr><th scope=row>4</th><td>4</td><td>1306</td><td>62.5</td><td>26.5</td><td>2061.385</td><td>-755.38476</td><td>570606.133</td></tr>\n",
              "\t<tr><th scope=row>5</th><td>5</td><td>2294</td><td>70.0</td><td>35.0</td><td>2896.097</td><td>-602.09717</td><td>362520.997</td></tr>\n",
              "\t<tr><th scope=row>6</th><td>6</td><td>2725</td><td>68.0</td><td>36.5</td><td>2654.885</td><td>  70.11480</td><td>  4916.085</td></tr>\n",
              "</tbody>\n",
              "</table>\n"
            ]
          },
          "metadata": {}
        }
      ]
    },
    {
      "cell_type": "code",
      "metadata": {
        "colab": {
          "base_uri": "https://localhost:8080/",
          "height": 35
        },
        "id": "TpBsZKmmJ40E",
        "outputId": "f3aad4e4-67e7-4165-9892-cb46fd5f163e"
      },
      "source": [
        "ls(Haystacks_with_Residuals\n",
        ")"
      ],
      "execution_count": null,
      "outputs": [
        {
          "output_type": "display_data",
          "data": {
            "text/plain": [
              "[1] \"Circumference..ft.\"  \"Over..ft.\"           \"Residual\"           \n",
              "[4] \"ResidualSquared\"     \"RowID\"               \"Volume\"             \n",
              "[7] \"VolumeCircumference\""
            ],
            "text/latex": "\\begin{enumerate*}\n\\item 'Circumference..ft.'\n\\item 'Over..ft.'\n\\item 'Residual'\n\\item 'ResidualSquared'\n\\item 'RowID'\n\\item 'Volume'\n\\item 'VolumeCircumference'\n\\end{enumerate*}\n",
            "text/markdown": "1. 'Circumference..ft.'\n2. 'Over..ft.'\n3. 'Residual'\n4. 'ResidualSquared'\n5. 'RowID'\n6. 'Volume'\n7. 'VolumeCircumference'\n\n\n",
            "text/html": [
              "<style>\n",
              ".list-inline {list-style: none; margin:0; padding: 0}\n",
              ".list-inline>li {display: inline-block}\n",
              ".list-inline>li:not(:last-child)::after {content: \"\\00b7\"; padding: 0 .5ex}\n",
              "</style>\n",
              "<ol class=list-inline><li>'Circumference..ft.'</li><li>'Over..ft.'</li><li>'Residual'</li><li>'ResidualSquared'</li><li>'RowID'</li><li>'Volume'</li><li>'VolumeCircumference'</li></ol>\n"
            ]
          },
          "metadata": {}
        }
      ]
    },
    {
      "cell_type": "code",
      "metadata": {
        "colab": {
          "base_uri": "https://localhost:8080/",
          "height": 129
        },
        "id": "xpdU2_FIIdQz",
        "outputId": "73f41f50-d1c6-4c44-9f93-d062985ded8e"
      },
      "source": [
        "(Haystacks_with_Residuals \n",
        "  %>% summarise(sum(ResidualSquared))\n",
        ")"
      ],
      "execution_count": null,
      "outputs": [
        {
          "output_type": "display_data",
          "data": {
            "text/plain": [
              "  sum(ResidualSquared)\n",
              "1 50151006            "
            ],
            "text/latex": "A data.frame: 1 × 1\n\\begin{tabular}{l}\n sum(ResidualSquared)\\\\\n <dbl>\\\\\n\\hline\n\t 50151006\\\\\n\\end{tabular}\n",
            "text/markdown": "\nA data.frame: 1 × 1\n\n| sum(ResidualSquared) &lt;dbl&gt; |\n|---|\n| 50151006 |\n\n",
            "text/html": [
              "<table class=\"dataframe\">\n",
              "<caption>A data.frame: 1 × 1</caption>\n",
              "<thead>\n",
              "\t<tr><th scope=col>sum(ResidualSquared)</th></tr>\n",
              "\t<tr><th scope=col>&lt;dbl&gt;</th></tr>\n",
              "</thead>\n",
              "<tbody>\n",
              "\t<tr><td>50151006</td></tr>\n",
              "</tbody>\n",
              "</table>\n"
            ]
          },
          "metadata": {}
        }
      ]
    },
    {
      "cell_type": "code",
      "metadata": {
        "colab": {
          "base_uri": "https://localhost:8080/",
          "height": 147
        },
        "id": "M1dC1vlkKCkr",
        "outputId": "ea020deb-dade-44ea-81c1-b211b6cfbfa0"
      },
      "source": [
        "(Haystacks_with_Residuals \n",
        "  %>% summarise(sum(Residual))\n",
        ")"
      ],
      "execution_count": null,
      "outputs": [
        {
          "output_type": "display_data",
          "data": {
            "text/plain": [
              "  sum(Residual)\n",
              "1 22459.72     "
            ],
            "text/latex": "A data.frame: 1 × 1\n\\begin{tabular}{l}\n sum(Residual)\\\\\n <dbl>\\\\\n\\hline\n\t 22459.72\\\\\n\\end{tabular}\n",
            "text/markdown": "\nA data.frame: 1 × 1\n\n| sum(Residual) &lt;dbl&gt; |\n|---|\n| 22459.72 |\n\n",
            "text/html": [
              "<table class=\"dataframe\">\n",
              "<caption>A data.frame: 1 × 1</caption>\n",
              "<thead>\n",
              "\t<tr><th scope=col>sum(Residual)</th></tr>\n",
              "\t<tr><th scope=col>&lt;dbl&gt;</th></tr>\n",
              "</thead>\n",
              "<tbody>\n",
              "\t<tr><td>22459.72</td></tr>\n",
              "</tbody>\n",
              "</table>\n"
            ]
          },
          "metadata": {}
        }
      ]
    },
    {
      "cell_type": "code",
      "metadata": {
        "colab": {
          "base_uri": "https://localhost:8080/",
          "height": 437
        },
        "id": "blqW2LpI-XUy",
        "outputId": "d2b90634-ba1d-4cc5-af30-5aea959852fd"
      },
      "source": [
        "ggplot(data=Haystacks_with_Residuals, aes(x=Circumference..ft.,y=Volume)) + \n",
        "  geom_point() + \n",
        "  geom_line(aes(x=Circumference..ft., y=VolumeCircumference)) +\n",
        "  #geom_smooth(method='lm', formula = y ~ x, se=FALSE)\n",
        "  #geom_jitter(width=5) +  #Add a little jitter to the points\n",
        "  theme_classic()"
      ],
      "execution_count": null,
      "outputs": [
        {
          "output_type": "display_data",
          "data": {
            "image/png": "[encoded data removed]",
            "text/plain": [
              "plot without title"
            ]
          },
          "metadata": {
            "image/png": {
              "width": 420,
              "height": 420
            }
          }
        }
      ]
    },
    {
      "cell_type": "code",
      "metadata": {
        "id": "BSE9p3c7I7qF"
      },
      "source": [
        ""
      ],
      "execution_count": null,
      "outputs": []
    },
    {
      "cell_type": "code",
      "metadata": {
        "colab": {
          "base_uri": "https://localhost:8080/",
          "height": 286
        },
        "id": "lplCaFCwNldC",
        "outputId": "72faeae0-a725-4293-9afa-62abb8d1f231"
      },
      "source": [
        "Haystacks_with_Residuals2 <- (Haystacks\n",
        "                    %>% mutate(VolumeOver = (Over..ft. * 2)^3/(12*pi^2))\n",
        "                    %>% mutate(Residual = Volume - VolumeOver)\n",
        "                    %>% mutate(ResidualSquared = Residual^2)\n",
        "                )\n",
        "\n",
        "head(Haystacks_with_Residuals2)\n",
        "\n"
      ],
      "execution_count": null,
      "outputs": [
        {
          "output_type": "display_data",
          "data": {
            "text/plain": [
              "  RowID Volume Circumference..ft. Over..ft. VolumeOver Residual  \n",
              "1 1     2853   69.0               37.0      3421.481   -568.48128\n",
              "2 2     2702   65.0               36.5      3284.639   -582.63857\n",
              "3 3     3099   73.0               38.5      3854.705   -755.70533\n",
              "4 4     1306   62.5               26.5      1257.033     48.96718\n",
              "5 5     2294   70.0               35.0      2896.097   -602.09717\n",
              "6 6     2725   68.0               36.5      3284.639   -559.63857\n",
              "  ResidualSquared\n",
              "1 323170.962     \n",
              "2 339467.709     \n",
              "3 571090.542     \n",
              "4   2397.785     \n",
              "5 362520.997     \n",
              "6 313195.334     "
            ],
            "text/latex": "A data.frame: 6 × 7\n\\begin{tabular}{r|lllllll}\n  & RowID & Volume & Circumference..ft. & Over..ft. & VolumeOver & Residual & ResidualSquared\\\\\n  & <int> & <dbl> & <dbl> & <dbl> & <dbl> & <dbl> & <dbl>\\\\\n\\hline\n\t1 & 1 & 2853 & 69.0 & 37.0 & 3421.481 & -568.48128 & 323170.962\\\\\n\t2 & 2 & 2702 & 65.0 & 36.5 & 3284.639 & -582.63857 & 339467.709\\\\\n\t3 & 3 & 3099 & 73.0 & 38.5 & 3854.705 & -755.70533 & 571090.542\\\\\n\t4 & 4 & 1306 & 62.5 & 26.5 & 1257.033 &   48.96718 &   2397.785\\\\\n\t5 & 5 & 2294 & 70.0 & 35.0 & 2896.097 & -602.09717 & 362520.997\\\\\n\t6 & 6 & 2725 & 68.0 & 36.5 & 3284.639 & -559.63857 & 313195.334\\\\\n\\end{tabular}\n",
            "text/markdown": "\nA data.frame: 6 × 7\n\n| <!--/--> | RowID &lt;int&gt; | Volume &lt;dbl&gt; | Circumference..ft. &lt;dbl&gt; | Over..ft. &lt;dbl&gt; | VolumeOver &lt;dbl&gt; | Residual &lt;dbl&gt; | ResidualSquared &lt;dbl&gt; |\n|---|---|---|---|---|---|---|---|\n| 1 | 1 | 2853 | 69.0 | 37.0 | 3421.481 | -568.48128 | 323170.962 |\n| 2 | 2 | 2702 | 65.0 | 36.5 | 3284.639 | -582.63857 | 339467.709 |\n| 3 | 3 | 3099 | 73.0 | 38.5 | 3854.705 | -755.70533 | 571090.542 |\n| 4 | 4 | 1306 | 62.5 | 26.5 | 1257.033 |   48.96718 |   2397.785 |\n| 5 | 5 | 2294 | 70.0 | 35.0 | 2896.097 | -602.09717 | 362520.997 |\n| 6 | 6 | 2725 | 68.0 | 36.5 | 3284.639 | -559.63857 | 313195.334 |\n\n",
            "text/html": [
              "<table class=\"dataframe\">\n",
              "<caption>A data.frame: 6 × 7</caption>\n",
              "<thead>\n",
              "\t<tr><th></th><th scope=col>RowID</th><th scope=col>Volume</th><th scope=col>Circumference..ft.</th><th scope=col>Over..ft.</th><th scope=col>VolumeOver</th><th scope=col>Residual</th><th scope=col>ResidualSquared</th></tr>\n",
              "\t<tr><th></th><th scope=col>&lt;int&gt;</th><th scope=col>&lt;dbl&gt;</th><th scope=col>&lt;dbl&gt;</th><th scope=col>&lt;dbl&gt;</th><th scope=col>&lt;dbl&gt;</th><th scope=col>&lt;dbl&gt;</th><th scope=col>&lt;dbl&gt;</th></tr>\n",
              "</thead>\n",
              "<tbody>\n",
              "\t<tr><th scope=row>1</th><td>1</td><td>2853</td><td>69.0</td><td>37.0</td><td>3421.481</td><td>-568.48128</td><td>323170.962</td></tr>\n",
              "\t<tr><th scope=row>2</th><td>2</td><td>2702</td><td>65.0</td><td>36.5</td><td>3284.639</td><td>-582.63857</td><td>339467.709</td></tr>\n",
              "\t<tr><th scope=row>3</th><td>3</td><td>3099</td><td>73.0</td><td>38.5</td><td>3854.705</td><td>-755.70533</td><td>571090.542</td></tr>\n",
              "\t<tr><th scope=row>4</th><td>4</td><td>1306</td><td>62.5</td><td>26.5</td><td>1257.033</td><td>  48.96718</td><td>  2397.785</td></tr>\n",
              "\t<tr><th scope=row>5</th><td>5</td><td>2294</td><td>70.0</td><td>35.0</td><td>2896.097</td><td>-602.09717</td><td>362520.997</td></tr>\n",
              "\t<tr><th scope=row>6</th><td>6</td><td>2725</td><td>68.0</td><td>36.5</td><td>3284.639</td><td>-559.63857</td><td>313195.334</td></tr>\n",
              "</tbody>\n",
              "</table>\n"
            ]
          },
          "metadata": {}
        }
      ]
    },
    {
      "cell_type": "code",
      "metadata": {
        "colab": {
          "base_uri": "https://localhost:8080/",
          "height": 129
        },
        "id": "orKB6R-nN-Eb",
        "outputId": "27b3e9f9-f703-4279-a7d5-53c070744c68"
      },
      "source": [
        "(Haystacks_with_Residuals2 \n",
        "  %>% summarise(sum(ResidualSquared))\n",
        ")"
      ],
      "execution_count": null,
      "outputs": [
        {
          "output_type": "display_data",
          "data": {
            "text/plain": [
              "  sum(ResidualSquared)\n",
              "1 19955213            "
            ],
            "text/latex": "A data.frame: 1 × 1\n\\begin{tabular}{l}\n sum(ResidualSquared)\\\\\n <dbl>\\\\\n\\hline\n\t 19955213\\\\\n\\end{tabular}\n",
            "text/markdown": "\nA data.frame: 1 × 1\n\n| sum(ResidualSquared) &lt;dbl&gt; |\n|---|\n| 19955213 |\n\n",
            "text/html": [
              "<table class=\"dataframe\">\n",
              "<caption>A data.frame: 1 × 1</caption>\n",
              "<thead>\n",
              "\t<tr><th scope=col>sum(ResidualSquared)</th></tr>\n",
              "\t<tr><th scope=col>&lt;dbl&gt;</th></tr>\n",
              "</thead>\n",
              "<tbody>\n",
              "\t<tr><td>19955213</td></tr>\n",
              "</tbody>\n",
              "</table>\n"
            ]
          },
          "metadata": {}
        }
      ]
    },
    {
      "cell_type": "code",
      "metadata": {
        "id": "XbzYit94AmN8",
        "colab": {
          "base_uri": "https://localhost:8080/",
          "height": 306
        },
        "outputId": "a801040a-5b99-4d6a-c9b7-79ed458bddc5"
      },
      "source": [
        "girls <- read.csv(\"BGSGirls.csv\")\n",
        "head(girls)"
      ],
      "execution_count": null,
      "outputs": [
        {
          "output_type": "display_data",
          "data": {
            "text/plain": [
              "  TableID SomatoType Weight2 Height2 Weight9 Height9 Leg9 Strength9 Weight18\n",
              "1 1       5.0        13.6    87.7    32.5    133.4   28.4  74       56.9    \n",
              "2 2       4.0        11.3    90.0    27.8    134.8   26.9  65       49.9    \n",
              "3 3       5.5        17.0    89.6    44.4    141.5   31.9 104       55.3    \n",
              "4 4       5.5        13.2    90.3    40.5    137.1   31.8  79       65.9    \n",
              "5 5       4.5        13.3    89.4    29.9    136.1   27.7  83       62.3    \n",
              "6 6       3.0        11.3    85.5    22.8    130.6   23.4  60       47.4    \n",
              "  Height18 Leg18 Strength18\n",
              "1 158.9    34.6  143       \n",
              "2 166.0    33.8  117       \n",
              "3 162.2    35.1  143       \n",
              "4 167.8    39.3  148       \n",
              "5 170.9    36.3  152       \n",
              "6 164.9    31.8  126       "
            ],
            "text/latex": "A data.frame: 6 × 12\n\\begin{tabular}{r|llllllllllll}\n  & TableID & SomatoType & Weight2 & Height2 & Weight9 & Height9 & Leg9 & Strength9 & Weight18 & Height18 & Leg18 & Strength18\\\\\n  & <int> & <dbl> & <dbl> & <dbl> & <dbl> & <dbl> & <dbl> & <int> & <dbl> & <dbl> & <dbl> & <int>\\\\\n\\hline\n\t1 & 1 & 5.0 & 13.6 & 87.7 & 32.5 & 133.4 & 28.4 &  74 & 56.9 & 158.9 & 34.6 & 143\\\\\n\t2 & 2 & 4.0 & 11.3 & 90.0 & 27.8 & 134.8 & 26.9 &  65 & 49.9 & 166.0 & 33.8 & 117\\\\\n\t3 & 3 & 5.5 & 17.0 & 89.6 & 44.4 & 141.5 & 31.9 & 104 & 55.3 & 162.2 & 35.1 & 143\\\\\n\t4 & 4 & 5.5 & 13.2 & 90.3 & 40.5 & 137.1 & 31.8 &  79 & 65.9 & 167.8 & 39.3 & 148\\\\\n\t5 & 5 & 4.5 & 13.3 & 89.4 & 29.9 & 136.1 & 27.7 &  83 & 62.3 & 170.9 & 36.3 & 152\\\\\n\t6 & 6 & 3.0 & 11.3 & 85.5 & 22.8 & 130.6 & 23.4 &  60 & 47.4 & 164.9 & 31.8 & 126\\\\\n\\end{tabular}\n",
            "text/markdown": "\nA data.frame: 6 × 12\n\n| <!--/--> | TableID &lt;int&gt; | SomatoType &lt;dbl&gt; | Weight2 &lt;dbl&gt; | Height2 &lt;dbl&gt; | Weight9 &lt;dbl&gt; | Height9 &lt;dbl&gt; | Leg9 &lt;dbl&gt; | Strength9 &lt;int&gt; | Weight18 &lt;dbl&gt; | Height18 &lt;dbl&gt; | Leg18 &lt;dbl&gt; | Strength18 &lt;int&gt; |\n|---|---|---|---|---|---|---|---|---|---|---|---|---|\n| 1 | 1 | 5.0 | 13.6 | 87.7 | 32.5 | 133.4 | 28.4 |  74 | 56.9 | 158.9 | 34.6 | 143 |\n| 2 | 2 | 4.0 | 11.3 | 90.0 | 27.8 | 134.8 | 26.9 |  65 | 49.9 | 166.0 | 33.8 | 117 |\n| 3 | 3 | 5.5 | 17.0 | 89.6 | 44.4 | 141.5 | 31.9 | 104 | 55.3 | 162.2 | 35.1 | 143 |\n| 4 | 4 | 5.5 | 13.2 | 90.3 | 40.5 | 137.1 | 31.8 |  79 | 65.9 | 167.8 | 39.3 | 148 |\n| 5 | 5 | 4.5 | 13.3 | 89.4 | 29.9 | 136.1 | 27.7 |  83 | 62.3 | 170.9 | 36.3 | 152 |\n| 6 | 6 | 3.0 | 11.3 | 85.5 | 22.8 | 130.6 | 23.4 |  60 | 47.4 | 164.9 | 31.8 | 126 |\n\n",
            "text/html": [
              "<table class=\"dataframe\">\n",
              "<caption>A data.frame: 6 × 12</caption>\n",
              "<thead>\n",
              "\t<tr><th></th><th scope=col>TableID</th><th scope=col>SomatoType</th><th scope=col>Weight2</th><th scope=col>Height2</th><th scope=col>Weight9</th><th scope=col>Height9</th><th scope=col>Leg9</th><th scope=col>Strength9</th><th scope=col>Weight18</th><th scope=col>Height18</th><th scope=col>Leg18</th><th scope=col>Strength18</th></tr>\n",
              "\t<tr><th></th><th scope=col>&lt;int&gt;</th><th scope=col>&lt;dbl&gt;</th><th scope=col>&lt;dbl&gt;</th><th scope=col>&lt;dbl&gt;</th><th scope=col>&lt;dbl&gt;</th><th scope=col>&lt;dbl&gt;</th><th scope=col>&lt;dbl&gt;</th><th scope=col>&lt;int&gt;</th><th scope=col>&lt;dbl&gt;</th><th scope=col>&lt;dbl&gt;</th><th scope=col>&lt;dbl&gt;</th><th scope=col>&lt;int&gt;</th></tr>\n",
              "</thead>\n",
              "<tbody>\n",
              "\t<tr><th scope=row>1</th><td>1</td><td>5.0</td><td>13.6</td><td>87.7</td><td>32.5</td><td>133.4</td><td>28.4</td><td> 74</td><td>56.9</td><td>158.9</td><td>34.6</td><td>143</td></tr>\n",
              "\t<tr><th scope=row>2</th><td>2</td><td>4.0</td><td>11.3</td><td>90.0</td><td>27.8</td><td>134.8</td><td>26.9</td><td> 65</td><td>49.9</td><td>166.0</td><td>33.8</td><td>117</td></tr>\n",
              "\t<tr><th scope=row>3</th><td>3</td><td>5.5</td><td>17.0</td><td>89.6</td><td>44.4</td><td>141.5</td><td>31.9</td><td>104</td><td>55.3</td><td>162.2</td><td>35.1</td><td>143</td></tr>\n",
              "\t<tr><th scope=row>4</th><td>4</td><td>5.5</td><td>13.2</td><td>90.3</td><td>40.5</td><td>137.1</td><td>31.8</td><td> 79</td><td>65.9</td><td>167.8</td><td>39.3</td><td>148</td></tr>\n",
              "\t<tr><th scope=row>5</th><td>5</td><td>4.5</td><td>13.3</td><td>89.4</td><td>29.9</td><td>136.1</td><td>27.7</td><td> 83</td><td>62.3</td><td>170.9</td><td>36.3</td><td>152</td></tr>\n",
              "\t<tr><th scope=row>6</th><td>6</td><td>3.0</td><td>11.3</td><td>85.5</td><td>22.8</td><td>130.6</td><td>23.4</td><td> 60</td><td>47.4</td><td>164.9</td><td>31.8</td><td>126</td></tr>\n",
              "</tbody>\n",
              "</table>\n"
            ]
          },
          "metadata": {}
        }
      ]
    },
    {
      "cell_type": "code",
      "metadata": {
        "colab": {
          "base_uri": "https://localhost:8080/",
          "height": 437
        },
        "id": "xliwaDhyPdOu",
        "outputId": "3cfa9cb8-baab-4654-d402-8e5d493302c9"
      },
      "source": [
        "ggplot(data=girls, aes(x=Leg9,y=Leg18)) + \n",
        "  geom_point() + \n",
        "  geom_smooth(method='lm', formula = y ~ x, se=FALSE) +\n",
        "  #geom_jitter(width=5) +  #Add a little jitter to the points\n",
        "  theme_classic()"
      ],
      "execution_count": null,
      "outputs": [
        {
          "output_type": "display_data",
          "data": {
            "image/png": "[encoded data removed]",
            "text/plain": [
              "plot without title"
            ]
          },
          "metadata": {
            "image/png": {
              "width": 420,
              "height": 420
            }
          }
        }
      ]
    },
    {
      "cell_type": "code",
      "metadata": {
        "colab": {
          "base_uri": "https://localhost:8080/",
          "height": 139
        },
        "id": "txuSKvIURB7a",
        "outputId": "ee4c7450-f5d3-40aa-ac05-1da1abc8b610"
      },
      "source": [
        "girl_model <- lm(Leg18 ~ Leg9, data=girls)\n",
        "\n",
        "girl_model\n"
      ],
      "execution_count": null,
      "outputs": [
        {
          "output_type": "display_data",
          "data": {
            "text/plain": [
              "\n",
              "Call:\n",
              "lm(formula = Leg18 ~ Leg9, data = girls)\n",
              "\n",
              "Coefficients:\n",
              "(Intercept)         Leg9  \n",
              "    12.7828       0.8132  \n"
            ]
          },
          "metadata": {}
        }
      ]
    },
    {
      "cell_type": "code",
      "metadata": {
        "colab": {
          "base_uri": "https://localhost:8080/",
          "height": 161
        },
        "id": "gGRa-KnhR69A",
        "outputId": "4d1694dc-87a8-4901-e980-95a141287ef2"
      },
      "source": [
        "anova(girl_model)"
      ],
      "execution_count": null,
      "outputs": [
        {
          "output_type": "display_data",
          "data": {
            "text/plain": [
              "          Df Sum Sq   Mean Sq    F value Pr(>F)     \n",
              "Leg9       1 273.9430 273.942952 99.8383 5.64627e-15\n",
              "Residuals 68 186.5829   2.743866      NA          NA"
            ],
            "text/latex": "A anova: 2 × 5\n\\begin{tabular}{r|lllll}\n  & Df & Sum Sq & Mean Sq & F value & Pr(>F)\\\\\n  & <int> & <dbl> & <dbl> & <dbl> & <dbl>\\\\\n\\hline\n\tLeg9 &  1 & 273.9430 & 273.942952 & 99.8383 & 5.64627e-15\\\\\n\tResiduals & 68 & 186.5829 &   2.743866 &      NA &          NA\\\\\n\\end{tabular}\n",
            "text/markdown": "\nA anova: 2 × 5\n\n| <!--/--> | Df &lt;int&gt; | Sum Sq &lt;dbl&gt; | Mean Sq &lt;dbl&gt; | F value &lt;dbl&gt; | Pr(&gt;F) &lt;dbl&gt; |\n|---|---|---|---|---|---|\n| Leg9 |  1 | 273.9430 | 273.942952 | 99.8383 | 5.64627e-15 |\n| Residuals | 68 | 186.5829 |   2.743866 |      NA |          NA |\n\n",
            "text/html": [
              "<table class=\"dataframe\">\n",
              "<caption>A anova: 2 × 5</caption>\n",
              "<thead>\n",
              "\t<tr><th></th><th scope=col>Df</th><th scope=col>Sum Sq</th><th scope=col>Mean Sq</th><th scope=col>F value</th><th scope=col>Pr(&gt;F)</th></tr>\n",
              "\t<tr><th></th><th scope=col>&lt;int&gt;</th><th scope=col>&lt;dbl&gt;</th><th scope=col>&lt;dbl&gt;</th><th scope=col>&lt;dbl&gt;</th><th scope=col>&lt;dbl&gt;</th></tr>\n",
              "</thead>\n",
              "<tbody>\n",
              "\t<tr><th scope=row>Leg9</th><td> 1</td><td>273.9430</td><td>273.942952</td><td>99.8383</td><td>5.64627e-15</td></tr>\n",
              "\t<tr><th scope=row>Residuals</th><td>68</td><td>186.5829</td><td>  2.743866</td><td>     NA</td><td>         NA</td></tr>\n",
              "</tbody>\n",
              "</table>\n"
            ]
          },
          "metadata": {}
        }
      ]
    },
    {
      "cell_type": "code",
      "metadata": {
        "id": "aop7PEv7U7ja",
        "colab": {
          "base_uri": "https://localhost:8080/",
          "height": 329
        },
        "outputId": "808deb97-ce02-4424-f66c-24b39d80852b"
      },
      "source": [
        "summary(girl_model)"
      ],
      "execution_count": null,
      "outputs": [
        {
          "output_type": "display_data",
          "data": {
            "text/plain": [
              "\n",
              "Call:\n",
              "lm(formula = Leg18 ~ Leg9, data = girls)\n",
              "\n",
              "Residuals:\n",
              "    Min      1Q  Median      3Q     Max \n",
              "-3.6236 -0.9164  0.0044  0.9951  3.8555 \n",
              "\n",
              "Coefficients:\n",
              "            Estimate Std. Error t value Pr(>|t|)    \n",
              "(Intercept) 12.78279    2.27405   5.621 3.85e-07 ***\n",
              "Leg9         0.81319    0.08139   9.992 5.65e-15 ***\n",
              "---\n",
              "Signif. codes:  0 ‘***’ 0.001 ‘**’ 0.01 ‘*’ 0.05 ‘.’ 0.1 ‘ ’ 1\n",
              "\n",
              "Residual standard error: 1.656 on 68 degrees of freedom\n",
              "Multiple R-squared:  0.5948,\tAdjusted R-squared:  0.5889 \n",
              "F-statistic: 99.84 on 1 and 68 DF,  p-value: 5.646e-15\n"
            ]
          },
          "metadata": {}
        }
      ]
    }
  ]
}